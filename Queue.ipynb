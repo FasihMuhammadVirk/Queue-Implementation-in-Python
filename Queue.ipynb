{
  "nbformat": 4,
  "nbformat_minor": 0,
  "metadata": {
    "colab": {
      "name": "Untitled1.ipynb",
      "provenance": [],
      "collapsed_sections": []
    },
    "kernelspec": {
      "name": "python3",
      "display_name": "Python 3"
    },
    "language_info": {
      "name": "python"
    }
  },
  "cells": [
    {
      "cell_type": "code",
      "metadata": {
        "colab": {
          "base_uri": "https://localhost:8080/"
        },
        "id": "t-bGBgiPOvX0",
        "outputId": "71a77395-b8ba-4895-845d-23c027fb42b8"
      },
      "source": [
        "from collections import deque\n",
        "\n",
        "import time\n",
        "import threading\n",
        "\n",
        "Orders_List = ['pizza', 'samosa', 'pasta', 'biryani', 'burger']\n",
        "\n",
        "class Queue:\n",
        "    def __init__(self):\n",
        "        self.buffer = deque()\n",
        "    def enqueue(self,val):\n",
        "      self.buffer.appendleft(val)\n",
        "    def deqeue(self):\n",
        "      if len(self.buffer) == 0:\n",
        "        print(\"Queue is Empty\")\n",
        "        return\n",
        "      return self.buffer.pop()\n",
        "    def is_empty(self):\n",
        "      return len(self.buffer) == 0\n",
        "    def size(self):\n",
        "      return len(self.buffer)\n",
        "    def front(self):\n",
        "      return self.buffer[-1]\n",
        "q = Queue()\n",
        "\n",
        "class Orders:\n",
        "    def place_order(self,porder):\n",
        "        order_number = 1\n",
        "        for items in porder:\n",
        "            print(f\"Placing {order_number} Order {items} Now!\")\n",
        "            q.enqueue(items)\n",
        "            print(\"Next Costumer Wait For A While\\n\")\n",
        "            time.sleep(0.5)\n",
        "            order_number += 1\n",
        "    def Serve_order(self):\n",
        "        for items in range(q.size()):\n",
        "            print(f\"Serving {items+1} Order Now! , Pick Up Your Order\")\n",
        "            q.deqeue()\n",
        "            print(\"Next Costumer Wait For A While\\n\")\n",
        "            time.sleep(2)\n",
        "o = Orders()\n",
        "\n",
        "placeorder = threading.Thread(target= o.place_order ,args = (Orders_List,))\n",
        "serveorder = threading.Thread(target= o.Serve_order )\n",
        "\n",
        "print(\"We Start Placing\\Serving Order From Here \\n\")\n",
        "\n",
        "placeorder.start()\n",
        "time.sleep(1)\n",
        "serveorder.start()\n",
        "placeorder.join()\n",
        "serveorder.join()\n",
        "\n",
        "print('All Order are Served')\n",
        "\n",
        "\n",
        "\n"
      ],
      "execution_count": null,
      "outputs": [
        {
          "output_type": "stream",
          "name": "stdout",
          "text": [
            "We Start Placing\\Serving Order From Here \n",
            "\n",
            "Placing 1 Order pizza Now!\n",
            "Next Costumer Wait For A While\n",
            "\n",
            "Placing 2 Order samosa Now!\n",
            "Next Costumer Wait For A While\n",
            "\n",
            "Placing 3 Order pasta Now!\n",
            "Next Costumer Wait For A While\n",
            "\n",
            "Serving 1 Order Now! , Pick Up Your Order\n",
            "Next Costumer Wait For A While\n",
            "\n",
            "Placing 4 Order biryani Now!\n",
            "Next Costumer Wait For A While\n",
            "\n",
            "Placing 5 Order burger Now!\n",
            "Next Costumer Wait For A While\n",
            "\n",
            "Serving 2 Order Now! , Pick Up Your Order\n",
            "Next Costumer Wait For A While\n",
            "\n",
            "Serving 3 Order Now! , Pick Up Your Order\n",
            "Next Costumer Wait For A While\n",
            "\n",
            "All Order are Served\n"
          ]
        }
      ]
    }
  ]
}